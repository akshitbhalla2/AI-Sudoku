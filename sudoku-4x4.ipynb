{
 "cells": [
  {
   "cell_type": "code",
   "execution_count": null,
   "metadata": {},
   "outputs": [],
   "source": [
    "from copy import deepcopy\n",
    "\n",
    "Grid = [['.', '.', '2', '3'],\n",
    "        ['.', '.', '.', '.'],\n",
    "        ['.', '.', '.', '.'],\n",
    "        ['3', '4', '.', '.']]\n",
    "\n",
    "## NEEDS EDITTING\n",
    "elements = []"
   ]
  },
  {
   "cell_type": "code",
   "execution_count": null,
   "metadata": {},
   "outputs": [],
   "source": [
    "def get_rows(new_Grid):\n",
    "    rows = []\n",
    "    ## NEEDS EDITTING\n",
    "    \n",
    "    return rows"
   ]
  },
  {
   "cell_type": "code",
   "execution_count": null,
   "metadata": {},
   "outputs": [],
   "source": [
    "## This cell is only for clarification and it is not part of the original code\n",
    "rows = get_rows(Grid)\n",
    "for r in rows:\n",
    "    print(r)"
   ]
  },
  {
   "cell_type": "code",
   "execution_count": null,
   "metadata": {},
   "outputs": [],
   "source": [
    "def get_cols(new_Grid):\n",
    "    cols = []\n",
    "    ## NEEDS EDITTING\n",
    "    \n",
    "    return cols"
   ]
  },
  {
   "cell_type": "code",
   "execution_count": null,
   "metadata": {},
   "outputs": [],
   "source": [
    "## This cell is only for clarification and it is not part of the original code\n",
    "cols = get_cols(Grid)\n",
    "for c in cols:\n",
    "    print(c)"
   ]
  },
  {
   "cell_type": "code",
   "execution_count": null,
   "metadata": {},
   "outputs": [],
   "source": [
    "## NEEDS EDITTING\n",
    "square_indx = [[(0,1),(0,1)],\n",
    "               \n",
    "              ]\n",
    "\n",
    "def get_squares(new_Grid):\n",
    "    squares = []\n",
    "    ## NEEDS EDITTING\n",
    "\n",
    "    return squares"
   ]
  },
  {
   "cell_type": "code",
   "execution_count": null,
   "metadata": {},
   "outputs": [],
   "source": [
    "## This cell is only for clarification and it is not part of the original code\n",
    "squares = get_squares(Grid)\n",
    "for sq in squares:\n",
    "    print(sq)"
   ]
  },
  {
   "cell_type": "code",
   "execution_count": null,
   "metadata": {},
   "outputs": [],
   "source": [
    "def get_all_related_cells(new_Grid):\n",
    "    ## NEEDS EDITTING\n",
    "\n",
    "    all_vec = squares + rows + cols\n",
    "    return all_vec"
   ]
  },
  {
   "cell_type": "code",
   "execution_count": null,
   "metadata": {},
   "outputs": [],
   "source": [
    "## This cell is only for clarification and it is not part of the original code\n",
    "all_vec = get_all_related_cells(Grid)\n",
    "for vector in all_vec:\n",
    "    print(vector)"
   ]
  },
  {
   "cell_type": "code",
   "execution_count": null,
   "metadata": {},
   "outputs": [],
   "source": [
    "def get_new_r_c(r, c):\n",
    "    ## NEEDS EDITTING\n",
    "\n",
    "    return new_r, new_c"
   ]
  },
  {
   "cell_type": "code",
   "execution_count": null,
   "metadata": {},
   "outputs": [],
   "source": [
    "## This cell is only for clarification and it is not part of the original code\n",
    "print(get_new_r_c(0,0))\n",
    "print(get_new_r_c(0,3))\n",
    "print(get_new_r_c(1,3))\n",
    "print(get_new_r_c(2,3))"
   ]
  },
  {
   "cell_type": "code",
   "execution_count": null,
   "metadata": {},
   "outputs": [],
   "source": [
    "def get_legal_for_cell(cell_r, cell_c, new_Grid):\n",
    "    ## NEEDS EDITTING\n",
    "\n",
    "\n",
    "    map = {}\n",
    "    ## NEEDS EDITTING\n",
    "\n",
    "\n",
    "    exist = []\n",
    "    ## NEEDS EDITTING\n",
    "\n",
    "\n",
    "    ## NEEDS EDITTING\n",
    "\n",
    "    return rest, exist, map"
   ]
  },
  {
   "cell_type": "code",
   "execution_count": null,
   "metadata": {},
   "outputs": [],
   "source": [
    "## This cell is only for clarification and it is not part of the original code\n",
    "r = 0\n",
    "c = 0\n",
    "legal_for_cell, exist, map = get_legal_for_cell(r, c, Grid)\n",
    "print(map)\n",
    "print(exist)\n",
    "print(legal_for_cell)"
   ]
  },
  {
   "cell_type": "code",
   "execution_count": null,
   "metadata": {},
   "outputs": [],
   "source": [
    "def is_complete(new_Grid):\n",
    "    grid_complete = True\n",
    "    for r in new_Grid:\n",
    "        grid_complete = grid_complete and not ('.' in r)\n",
    "    return grid_complete\n",
    "\n",
    "def print_grid(new_Grid):\n",
    "    for item in new_Grid:\n",
    "        print(item)\n",
    "    print()"
   ]
  },
  {
   "cell_type": "code",
   "execution_count": null,
   "metadata": {},
   "outputs": [],
   "source": [
    "## This cell is only for clarification and it is not part of the original code\n",
    "print(is_complete(Grid))"
   ]
  },
  {
   "cell_type": "code",
   "execution_count": null,
   "metadata": {},
   "outputs": [],
   "source": [
    "## This cell is only for clarification and it is not part of the original code\n",
    "print_grid(Grid)"
   ]
  },
  {
   "cell_type": "code",
   "execution_count": null,
   "metadata": {},
   "outputs": [],
   "source": [
    "## This cell is only for clarification and it is not part of the original code\n",
    "# Explaining deep copy\n"
   ]
  },
  {
   "cell_type": "code",
   "execution_count": null,
   "metadata": {
    "scrolled": true
   },
   "outputs": [],
   "source": [
    "## This cell is only for clarification and it is not part of the original code\n",
    "def fibonacci(n):\n",
    "    ## NEEDS EDITTING\n"
   ]
  },
  {
   "cell_type": "code",
   "execution_count": null,
   "metadata": {},
   "outputs": [],
   "source": [
    "def solve_step_in_sudoko(last_Grid, r, c):\n",
    "    ## NEEDS EDITTING\n",
    "    \n",
    "    ## NEEDS EDITTING\n",
    "\n",
    "    ## NEEDS EDITTING\n",
    "    \n",
    "    ## NEEDS EDITTING\n",
    "    \n",
    "\n",
    "solve_step_in_sudoko(Grid, 0, 0)"
   ]
  }
 ],
 "metadata": {
  "kernelspec": {
   "display_name": "Python 3",
   "language": "python",
   "name": "python3"
  },
  "language_info": {
   "codemirror_mode": {
    "name": "ipython",
    "version": 3
   },
   "file_extension": ".py",
   "mimetype": "text/x-python",
   "name": "python",
   "nbconvert_exporter": "python",
   "pygments_lexer": "ipython3",
   "version": "3.8.5"
  }
 },
 "nbformat": 4,
 "nbformat_minor": 4
}
